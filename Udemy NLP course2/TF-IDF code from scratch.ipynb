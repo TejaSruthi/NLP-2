{
 "cells": [
  {
   "cell_type": "code",
   "execution_count": 1,
   "id": "0bfcf5f0-f3f4-4cc9-bfc0-b5583c92ac9e",
   "metadata": {},
   "outputs": [],
   "source": [
    "import pandas as pd\n",
    "import numpy as np\n",
    "import nltk\n",
    "\n",
    "from nltk import word_tokenize"
   ]
  },
  {
   "cell_type": "code",
   "execution_count": 2,
   "id": "71318979-64a0-4bca-95b0-0435e80f3fb8",
   "metadata": {},
   "outputs": [
    {
     "name": "stderr",
     "output_type": "stream",
     "text": [
      "[nltk_data] Downloading package punkt to\n",
      "[nltk_data]     C:\\Users\\te20312262\\AppData\\Roaming\\nltk_data...\n",
      "[nltk_data]   Package punkt is already up-to-date!\n"
     ]
    },
    {
     "data": {
      "text/plain": [
       "True"
      ]
     },
     "execution_count": 2,
     "metadata": {},
     "output_type": "execute_result"
    }
   ],
   "source": [
    "nltk.download(\"punkt\")"
   ]
  },
  {
   "cell_type": "code",
   "execution_count": 3,
   "id": "b08c6cce-d291-4834-b1a2-f763e120649d",
   "metadata": {},
   "outputs": [],
   "source": [
    "df = pd.read_csv(\"bbc_text_cls.csv\")"
   ]
  },
  {
   "cell_type": "code",
   "execution_count": 5,
   "id": "9df4642b-c6cb-483b-a650-effd80901100",
   "metadata": {},
   "outputs": [
    {
     "data": {
      "text/html": [
       "<div>\n",
       "<style scoped>\n",
       "    .dataframe tbody tr th:only-of-type {\n",
       "        vertical-align: middle;\n",
       "    }\n",
       "\n",
       "    .dataframe tbody tr th {\n",
       "        vertical-align: top;\n",
       "    }\n",
       "\n",
       "    .dataframe thead th {\n",
       "        text-align: right;\n",
       "    }\n",
       "</style>\n",
       "<table border=\"1\" class=\"dataframe\">\n",
       "  <thead>\n",
       "    <tr style=\"text-align: right;\">\n",
       "      <th></th>\n",
       "      <th>text</th>\n",
       "      <th>labels</th>\n",
       "    </tr>\n",
       "  </thead>\n",
       "  <tbody>\n",
       "    <tr>\n",
       "      <th>0</th>\n",
       "      <td>Ad sales boost Time Warner profit\\n\\nQuarterly...</td>\n",
       "      <td>business</td>\n",
       "    </tr>\n",
       "    <tr>\n",
       "      <th>1</th>\n",
       "      <td>Dollar gains on Greenspan speech\\n\\nThe dollar...</td>\n",
       "      <td>business</td>\n",
       "    </tr>\n",
       "    <tr>\n",
       "      <th>2</th>\n",
       "      <td>Yukos unit buyer faces loan claim\\n\\nThe owner...</td>\n",
       "      <td>business</td>\n",
       "    </tr>\n",
       "    <tr>\n",
       "      <th>3</th>\n",
       "      <td>High fuel prices hit BA's profits\\n\\nBritish A...</td>\n",
       "      <td>business</td>\n",
       "    </tr>\n",
       "    <tr>\n",
       "      <th>4</th>\n",
       "      <td>Pernod takeover talk lifts Domecq\\n\\nShares in...</td>\n",
       "      <td>business</td>\n",
       "    </tr>\n",
       "  </tbody>\n",
       "</table>\n",
       "</div>"
      ],
      "text/plain": [
       "                                                text    labels\n",
       "0  Ad sales boost Time Warner profit\\n\\nQuarterly...  business\n",
       "1  Dollar gains on Greenspan speech\\n\\nThe dollar...  business\n",
       "2  Yukos unit buyer faces loan claim\\n\\nThe owner...  business\n",
       "3  High fuel prices hit BA's profits\\n\\nBritish A...  business\n",
       "4  Pernod takeover talk lifts Domecq\\n\\nShares in...  business"
      ]
     },
     "execution_count": 5,
     "metadata": {},
     "output_type": "execute_result"
    }
   ],
   "source": [
    "df.head()"
   ]
  },
  {
   "cell_type": "code",
   "execution_count": 7,
   "id": "a43a13f2-2cd7-49f9-a113-0e325cc47b49",
   "metadata": {},
   "outputs": [],
   "source": [
    "# populate word2idx\n",
    "# convert documents into sequence of ints/ ids / indices\n",
    "idx =0\n",
    "word2idx = {}\n",
    "tokenized_docs=[]\n",
    "for row in df[\"text\"]:\n",
    "    doc_as_int = []\n",
    "    words =word_tokenize(row.lower())\n",
    "    for word in words:\n",
    "        if word not in word2idx:\n",
    "            word2idx[word] = idx\n",
    "            idx+=1\n",
    "\n",
    "        #save for later use\n",
    "        doc_as_int.append(word2idx[word])\n",
    "    tokenized_docs.append(doc_as_int)"
   ]
  },
  {
   "cell_type": "code",
   "execution_count": 8,
   "id": "2277cd21-7fe2-4759-ba5c-944b0e00e015",
   "metadata": {},
   "outputs": [],
   "source": [
    "# reverse mapping\n",
    "idx2word = {v:k for k,v in word2idx.items()}"
   ]
  },
  {
   "cell_type": "code",
   "execution_count": 9,
   "id": "1fa082c4-81ff-41a8-9783-7eb133dd8c39",
   "metadata": {},
   "outputs": [],
   "source": [
    "# number of documents\n",
    "N= len(df[\"text\"])"
   ]
  },
  {
   "cell_type": "code",
   "execution_count": 10,
   "id": "23664408-5ccd-47af-8f18-d29d93b3470c",
   "metadata": {},
   "outputs": [],
   "source": [
    "# number of words\n",
    "V = len(word2idx)"
   ]
  },
  {
   "cell_type": "code",
   "execution_count": 11,
   "id": "4f594e84-eea5-4952-bc90-2d72998e9a4e",
   "metadata": {},
   "outputs": [],
   "source": [
    "# instantiate term frequency count\n",
    "# note: could have also used count vectorizer\n",
    "tf = np.zeros((N,V))"
   ]
  },
  {
   "cell_type": "code",
   "execution_count": 13,
   "id": "58e1aa5c-c0c6-43b5-b4b2-6c115d270dd3",
   "metadata": {},
   "outputs": [],
   "source": [
    "# populate term frequency count\n",
    "for i, doc_as_int in enumerate(tokenized_docs):\n",
    "    for j in doc_as_int:\n",
    "        tf[i,j]+=1"
   ]
  },
  {
   "cell_type": "code",
   "execution_count": 15,
   "id": "2b19c015-f784-4a81-96f0-a69009f50bc2",
   "metadata": {},
   "outputs": [
    {
     "name": "stdout",
     "output_type": "stream",
     "text": [
      "2225 34762\n"
     ]
    }
   ],
   "source": [
    "print(N,V)"
   ]
  },
  {
   "cell_type": "code",
   "execution_count": 18,
   "id": "dc147593-68fe-46de-b5d1-21f5b6e12e3b",
   "metadata": {},
   "outputs": [
    {
     "data": {
      "text/plain": [
       "2225"
      ]
     },
     "execution_count": 18,
     "metadata": {},
     "output_type": "execute_result"
    }
   ],
   "source": [
    "len(np.sum(tf,axis=1))"
   ]
  },
  {
   "cell_type": "code",
   "execution_count": 25,
   "id": "94509856-f873-40ec-bf11-96ba3ff00e23",
   "metadata": {},
   "outputs": [
    {
     "data": {
      "text/plain": [
       "34762"
      ]
     },
     "execution_count": 25,
     "metadata": {},
     "output_type": "execute_result"
    }
   ],
   "source": [
    "len(np.sum(tf>0,axis=0))"
   ]
  },
  {
   "cell_type": "code",
   "execution_count": 28,
   "id": "de2a92cb-dd3c-420d-98c3-bd951be5887f",
   "metadata": {},
   "outputs": [],
   "source": [
    "# compute IDF\n",
    "document_freq = np.sum(tf>0,axis =0) # document frequency (shape= (V,))\n",
    "idf = np.log(N/document_freq)"
   ]
  },
  {
   "cell_type": "code",
   "execution_count": 29,
   "id": "a14953cc-b156-4d6b-801e-2b439d4fe5d1",
   "metadata": {},
   "outputs": [],
   "source": [
    "tf_idf = tf*idf"
   ]
  },
  {
   "cell_type": "code",
   "execution_count": 41,
   "id": "d6d4ccd0-eff6-4085-83b8-96e321eebcde",
   "metadata": {},
   "outputs": [
    {
     "data": {
      "text/plain": [
       "array([[1., 4., 1., ..., 0., 0., 0.],\n",
       "       [0., 0., 1., ..., 0., 0., 0.],\n",
       "       [0., 0., 0., ..., 0., 0., 0.],\n",
       "       ...,\n",
       "       [0., 0., 0., ..., 0., 0., 0.],\n",
       "       [0., 0., 0., ..., 0., 0., 0.],\n",
       "       [0., 0., 0., ..., 1., 1., 1.]])"
      ]
     },
     "execution_count": 41,
     "metadata": {},
     "output_type": "execute_result"
    }
   ],
   "source": [
    "tf"
   ]
  },
  {
   "cell_type": "code",
   "execution_count": 43,
   "id": "6e540adb-efde-4adc-8cfc-fd952d54af19",
   "metadata": {},
   "outputs": [
    {
     "data": {
      "text/plain": [
       "(2225, 34762)"
      ]
     },
     "execution_count": 43,
     "metadata": {},
     "output_type": "execute_result"
    }
   ],
   "source": [
    "tf.shape"
   ]
  },
  {
   "cell_type": "code",
   "execution_count": 42,
   "id": "94979383-42fa-4ad8-8b85-3cb813c8d4f8",
   "metadata": {},
   "outputs": [
    {
     "data": {
      "text/plain": [
       "array([5.22260554, 2.3893922 , 2.86332511, ..., 7.70751219, 7.70751219,\n",
       "       7.70751219])"
      ]
     },
     "execution_count": 42,
     "metadata": {},
     "output_type": "execute_result"
    }
   ],
   "source": [
    "idf"
   ]
  },
  {
   "cell_type": "code",
   "execution_count": 44,
   "id": "d320b92f-ebb4-480e-8eac-903972ef8c7e",
   "metadata": {},
   "outputs": [
    {
     "data": {
      "text/plain": [
       "(34762,)"
      ]
     },
     "execution_count": 44,
     "metadata": {},
     "output_type": "execute_result"
    }
   ],
   "source": [
    "idf.shape"
   ]
  },
  {
   "cell_type": "code",
   "execution_count": 40,
   "id": "be9ed7ff-3a27-4d27-977c-92fb0d682891",
   "metadata": {},
   "outputs": [
    {
     "data": {
      "text/plain": [
       "array([[5.22260554, 9.5575688 , 2.86332511, ..., 0.        , 0.        ,\n",
       "        0.        ],\n",
       "       [0.        , 0.        , 2.86332511, ..., 0.        , 0.        ,\n",
       "        0.        ],\n",
       "       [0.        , 0.        , 0.        , ..., 0.        , 0.        ,\n",
       "        0.        ],\n",
       "       ...,\n",
       "       [0.        , 0.        , 0.        , ..., 0.        , 0.        ,\n",
       "        0.        ],\n",
       "       [0.        , 0.        , 0.        , ..., 0.        , 0.        ,\n",
       "        0.        ],\n",
       "       [0.        , 0.        , 0.        , ..., 7.70751219, 7.70751219,\n",
       "        7.70751219]])"
      ]
     },
     "execution_count": 40,
     "metadata": {},
     "output_type": "execute_result"
    }
   ],
   "source": [
    "tf_idf"
   ]
  },
  {
   "cell_type": "code",
   "execution_count": 46,
   "id": "fc8d0ce2-2798-497e-9e69-05f6fc3e92f5",
   "metadata": {},
   "outputs": [
    {
     "data": {
      "text/plain": [
       "(2225, 34762)"
      ]
     },
     "execution_count": 46,
     "metadata": {},
     "output_type": "execute_result"
    }
   ],
   "source": [
    "tf_idf.shape"
   ]
  },
  {
   "cell_type": "code",
   "execution_count": 30,
   "id": "21147b21-de97-476f-81c0-4c811e1bf3e0",
   "metadata": {},
   "outputs": [],
   "source": [
    "np.random.seed(123)"
   ]
  },
  {
   "cell_type": "code",
   "execution_count": 47,
   "id": "72cf8d1a-5ed8-4c27-a3b4-9a9e7bac06e7",
   "metadata": {},
   "outputs": [
    {
     "name": "stdout",
     "output_type": "stream",
     "text": [
      "Label: business\n",
      "Text: Rank 'set to sell off film unit'\n",
      "Top 5 terms:\n",
      "rank\n",
      "deluxe\n",
      "demerger\n",
      "casinos\n",
      "leisure\n"
     ]
    }
   ],
   "source": [
    "# pick a random document, show the top 5 terms (in terms of tf_idf score)\n",
    "i = np.random.choice(N)\n",
    "i=20\n",
    "row = df.iloc[i]\n",
    "print(\"Label:\", row[\"labels\"])\n",
    "print(\"Text:\", row[\"text\"].split(\"\\n\")[0])\n",
    "print(\"Top 5 terms:\")\n",
    "\n",
    "scores = tf_idf[i]\n",
    "indices = (-scores).argsort()\n",
    "\n",
    "for j in indices[:5]:\n",
    "    print(idx2word[j])"
   ]
  },
  {
   "cell_type": "code",
   "execution_count": null,
   "id": "2f593ca2-54e7-4f32-b4ff-013e5972dffe",
   "metadata": {},
   "outputs": [],
   "source": []
  }
 ],
 "metadata": {
  "kernelspec": {
   "display_name": "Python 3 (ipykernel)",
   "language": "python",
   "name": "python3"
  },
  "language_info": {
   "codemirror_mode": {
    "name": "ipython",
    "version": 3
   },
   "file_extension": ".py",
   "mimetype": "text/x-python",
   "name": "python",
   "nbconvert_exporter": "python",
   "pygments_lexer": "ipython3",
   "version": "3.10.4"
  }
 },
 "nbformat": 4,
 "nbformat_minor": 5
}
